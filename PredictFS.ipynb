{
  "nbformat": 4,
  "nbformat_minor": 0,
  "metadata": {
    "colab": {
      "name": "PredictFS.ipynb",
      "version": "0.3.2",
      "provenance": [],
      "collapsed_sections": [
        "z4-7F9HoPcQq",
        "s7DXM1k9N2nt",
        "Iw6L0fotmdJk"
      ],
      "toc_visible": true,
      "include_colab_link": true
    },
    "kernelspec": {
      "name": "python3",
      "display_name": "Python 3"
    },
    "accelerator": "TPU"
  },
  "cells": [
    {
      "cell_type": "markdown",
      "metadata": {
        "id": "view-in-github",
        "colab_type": "text"
      },
      "source": [
        "<a href=\"https://colab.research.google.com/github/zhou100/Code-for-sharing/blob/master/PredictFS.ipynb\" target=\"_parent\"><img src=\"https://colab.research.google.com/assets/colab-badge.svg\" alt=\"Open In Colab\"/></a>"
      ]
    },
    {
      "metadata": {
        "id": "M84u2C8HfggW",
        "colab_type": "text"
      },
      "cell_type": "markdown",
      "source": [
        "# Use machine learning to predict food security"
      ]
    },
    {
      "metadata": {
        "id": "I19oMdkdgy5O",
        "colab_type": "code",
        "colab": {}
      },
      "cell_type": "code",
      "source": [
        "# Set up Notebook\n",
        "% matplotlib inline\n",
        "\n",
        "# Standard imports\n",
        "from sklearn.model_selection import GridSearchCV\n",
        "\n",
        "import numpy as np\n",
        "import pandas as pd\n",
        "import matplotlib.pyplot as plt\n",
        "import seaborn as sns\n",
        "import scipy.stats as stats\n",
        "from matplotlib import cm\n",
        "\n",
        "\n",
        "# We do this to ignore several specific Pandas warnings\n",
        "import warnings\n",
        "warnings.filterwarnings('ignore')\n",
        "from sklearn.metrics import explained_variance_score\n",
        "from sklearn.metrics import mean_absolute_error\n",
        "from sklearn.metrics import mean_squared_error\n",
        "from sklearn.metrics import median_absolute_error\n",
        "from sklearn.metrics import r2_score"
      ],
      "execution_count": 0,
      "outputs": []
    },
    {
      "metadata": {
        "id": "keVrDW_bUkj7",
        "colab_type": "text"
      },
      "cell_type": "markdown",
      "source": [
        " ## Read in the data cleaned out by R"
      ]
    },
    {
      "metadata": {
        "id": "zFRtuZDugFxL",
        "colab_type": "text"
      },
      "cell_type": "markdown",
      "source": [
        "If you are using google colab like me, you will need to mount your google drive first and  copy the cleaned dataset from the R project to your google drive. \n",
        "\n",
        "If you are using python/jupyter notebook locally, just point to the right directory. "
      ]
    },
    {
      "metadata": {
        "id": "zTkVN2xhOYAe",
        "colab_type": "code",
        "outputId": "db748cb4-943b-4588-b93a-a6e31b9c8420",
        "colab": {
          "base_uri": "https://localhost:8080/",
          "height": 34
        }
      },
      "cell_type": "code",
      "source": [
        "from google.colab import drive\n",
        "drive.mount('/gdrive')"
      ],
      "execution_count": 38,
      "outputs": [
        {
          "output_type": "stream",
          "text": [
            "Drive already mounted at /gdrive; to attempt to forcibly remount, call drive.mount(\"/gdrive\", force_remount=True).\n"
          ],
          "name": "stdout"
        }
      ]
    },
    {
      "metadata": {
        "id": "j5boaZorSjeE",
        "colab_type": "code",
        "colab": {}
      },
      "cell_type": "code",
      "source": [
        "!cp /gdrive/My\\ Drive/Colab\\ Notebooks/fs_data/mw_dataset_hh.csv ./\n",
        "!cp /gdrive/My\\ Drive/Colab\\ Notebooks/fs_data/mw_dataset_cluster.csv ./\n",
        "!cp /gdrive/My\\ Drive/Colab\\ Notebooks/fs_data/tz_dataset_hh.csv ./\n",
        "!cp /gdrive/My\\ Drive/Colab\\ Notebooks/fs_data/tz_dataset_cluster.csv ./\n",
        "!cp /gdrive/My\\ Drive/Colab\\ Notebooks/fs_data/ug_dataset_hh.csv ./\n",
        "!cp /gdrive/My\\ Drive/Colab\\ Notebooks/fs_data/ug_dataset_cluster.csv ./"
      ],
      "execution_count": 0,
      "outputs": []
    },
    {
      "metadata": {
        "id": "ywZkvBeTeuNk",
        "colab_type": "text"
      },
      "cell_type": "markdown",
      "source": [
        "**Read the csv data copied from google drive **"
      ]
    },
    {
      "metadata": {
        "id": "wZvz6sz8e8na",
        "colab_type": "code",
        "colab": {}
      },
      "cell_type": "code",
      "source": [
        "mw_hh = pd.read_csv(\"mw_dataset_hh.csv\")\n",
        "mw_clust = pd.read_csv(\"mw_dataset_cluster.csv\")\n",
        "tz_hh = pd.read_csv(\"tz_dataset_hh.csv\")\n",
        "tz_clust = pd.read_csv(\"tz_dataset_cluster.csv\")\n",
        "ug_hh = pd.read_csv(\"ug_dataset_hh.csv\")\n",
        "ug_clust = pd.read_csv(\"ug_dataset_cluster.csv\")\n"
      ],
      "execution_count": 0,
      "outputs": []
    },
    {
      "metadata": {
        "id": "sWyD9pyGg3tG",
        "colab_type": "text"
      },
      "cell_type": "markdown",
      "source": [
        "## Preprocessing data\n"
      ]
    },
    {
      "metadata": {
        "id": "kL-QAaj2oHAi",
        "colab_type": "text"
      },
      "cell_type": "markdown",
      "source": [
        "### Remove rows of missing values or extreme values"
      ]
    },
    {
      "metadata": {
        "id": "-OFPmOpNW5Oc",
        "colab_type": "code",
        "colab": {}
      },
      "cell_type": "code",
      "source": [
        "# no missing values \n",
        "tz_clust = tz_clust.loc[(tz_clust['FCS']!=0) & (tz_clust['HDDS']!=0)]\n",
        "tz_hh = tz_hh.loc[(tz_hh['FCS']!=0 )& tz_hh['HDDS']!=0]\n",
        "ug_clust = ug_clust.loc[(ug_clust['FCS']!=0) & (ug_clust['HDDS']!=0)]\n",
        "ug_hh = ug_hh.loc[(ug_hh['FCS']!=0) & (ug_hh['HDDS']!=0)]\n"
      ],
      "execution_count": 0,
      "outputs": []
    },
    {
      "metadata": {
        "id": "z4-7F9HoPcQq",
        "colab_type": "text"
      },
      "cell_type": "markdown",
      "source": [
        "### One-hot encoding for string variables "
      ]
    },
    {
      "metadata": {
        "id": "agxwXJAMSCnq",
        "colab_type": "code",
        "cellView": "both",
        "colab": {}
      },
      "cell_type": "code",
      "source": [
        "mw_hh[\"FNID\"]= mw_hh[\"FNID\"].str.lstrip('MW2012C')\n",
        "fnid_mw_hh = pd.get_dummies(mw_hh[\"FNID\"],prefix='MW', drop_first=True)\n",
        "mw_hh = pd.concat([mw_hh, fnid_mw_hh], axis=1)\n",
        "\n",
        "mw_clust[\"FNID\"]= mw_clust[\"FNID\"].str.lstrip('MW2012C')\n",
        "fnid_mw_clust = pd.get_dummies(mw_clust[\"FNID\"],prefix='MW', drop_first=True)\n",
        "mw_clust = pd.concat([mw_clust, fnid_mw_clust], axis=1)\n",
        "\n",
        "\n",
        "\n",
        "gender_mw_hh = pd.get_dummies(mw_hh[\"head_gender\"],prefix='gender', drop_first=True)\n",
        "mw_hh = pd.concat([mw_hh, gender_mw_hh], axis=1)\n",
        "\n",
        "edu_mw_hh = pd.get_dummies(mw_hh[\"head_edlevel\"],prefix='edu', drop_first=True)\n",
        "mw_hh = pd.concat([mw_hh, edu_mw_hh], axis=1)\n",
        "\n",
        "\n",
        "mw_hh = mw_hh.drop([\"head_gender\",\"head_edlevel\"],axis =1)\n",
        "\n",
        "\n",
        "\n"
      ],
      "execution_count": 0,
      "outputs": []
    },
    {
      "metadata": {
        "id": "aGcvjuEWR3NL",
        "colab_type": "code",
        "colab": {}
      },
      "cell_type": "code",
      "source": [
        "tz_hh[\"FNID\"]= tz_hh[\"FNID\"].str.lstrip('TZ2009L')\n",
        "fnid_tz_hh = pd.get_dummies(tz_hh[\"FNID\"],prefix='TZ', drop_first=True)\n",
        "tz_hh = pd.concat([tz_hh, fnid_tz_hh], axis=1)\n",
        "tz_hh = tz_hh.drop([\"FNID\"],axis =1)\n",
        "\n",
        "\n",
        "tz_clust[\"FNID\"]= tz_clust[\"FNID\"].str.lstrip('TZ2009L')\n",
        "fnid_tz_clust = pd.get_dummies(tz_clust[\"FNID\"],prefix='TZ', drop_first=True)\n",
        "tz_clust = pd.concat([tz_clust, fnid_tz_clust], axis=1)\n",
        "tz_clust = tz_clust.drop([\"FNID\"],axis =1)"
      ],
      "execution_count": 0,
      "outputs": []
    },
    {
      "metadata": {
        "id": "33lbuwxCVXmI",
        "colab_type": "code",
        "colab": {}
      },
      "cell_type": "code",
      "source": [
        "ug_hh[\"FNID\"]= ug_hh[\"FNID\"].str.lstrip('UG2011L')\n",
        "fnid_ug_hh = pd.get_dummies(ug_hh[\"FNID\"],prefix='UG', drop_first=True)\n",
        "ug_hh = pd.concat([ug_hh, fnid_ug_hh], axis=1)\n",
        "ug_hh = ug_hh.drop([\"FNID\"],axis =1)\n",
        "\n",
        "\n",
        "ug_clust[\"FNID\"]= ug_clust[\"FNID\"].str.lstrip('UG2011L')\n",
        "fnid_ug_clust = pd.get_dummies(ug_clust[\"FNID\"],prefix='UG', drop_first=True)\n",
        "ug_clust = pd.concat([ug_clust, fnid_ug_clust], axis=1)\n",
        "ug_clust = ug_clust.drop([\"FNID\"],axis =1)"
      ],
      "execution_count": 0,
      "outputs": []
    },
    {
      "metadata": {
        "id": "Ff01E_HPdoQh",
        "colab_type": "code",
        "colab": {}
      },
      "cell_type": "code",
      "source": [
        "mw_hh = mw_hh.drop([\"ea_id\"],axis=1)\n",
        "tz_hh = tz_hh.drop([\"yearmon\"],axis=1)\n",
        "tz_clust = tz_clust.drop([\"yearmon\"],axis=1)\n",
        "\n",
        "ug_hh = ug_hh.drop([\"yearmon\"],axis=1)\n",
        "ug_clust = ug_clust.drop([\"yearmon\"],axis=1)\n"
      ],
      "execution_count": 0,
      "outputs": []
    },
    {
      "metadata": {
        "id": "s7DXM1k9N2nt",
        "colab_type": "text"
      },
      "cell_type": "markdown",
      "source": [
        "### Impute missing values and standarize variables "
      ]
    },
    {
      "metadata": {
        "id": "8CwDmwc1MdA3",
        "colab_type": "code",
        "colab": {}
      },
      "cell_type": "code",
      "source": [
        "from sklearn.preprocessing import StandardScaler\n",
        "\n",
        "#ss = StandardScaler()\n",
        "\n",
        "#mw_hh_X_train = ss.fit_transform(mw_hh_X_train)\n",
        "#mw_hh_X_test = ss.fit_transform(mw_hh_X_test)\n",
        "#tz_hh_X_train = ss.fit_transform(tz_hh_X_train)\n",
        "#tz_hh_X_test = ss.fit_transform(tz_hh_X_test)\n",
        "#ug_hh_X_train = ss.fit_transform(ug_hh_X_train)\n",
        "#ug_hh_X_test = ss.fit_transform(ug_hh_X_test)\n",
        "\n",
        "#mw_clust_X_train = ss.fit_transform(mw_clust_X_train)\n",
        "#mw_clust_X_test = ss.fit_transform(mw_clust_X_test)\n",
        "#tz_clust_X_train = ss.fit_transform(tz_clust_X_train)\n",
        "#tz_clust_X_test = ss.fit_transform(tz_clust_X_test)\n",
        "#ug_clust_X_train = ss.fit_transform(ug_clust_X_train)\n",
        "#ug_clust_X_test = ss.fit_transform(ug_clust_X_test)\n",
        "\n"
      ],
      "execution_count": 0,
      "outputs": []
    },
    {
      "metadata": {
        "id": "DSo3Zuh0jAN8",
        "colab_type": "text"
      },
      "cell_type": "markdown",
      "source": [
        "## Exploratory Data Analysis  "
      ]
    },
    {
      "metadata": {
        "id": "0EVf0OgQhyzj",
        "colab_type": "text"
      },
      "cell_type": "markdown",
      "source": [
        "### Measures:  plot target measures by year by country\n"
      ]
    },
    {
      "metadata": {
        "id": "Mp4kXpaXfS0V",
        "colab_type": "code",
        "colab": {
          "base_uri": "https://localhost:8080/",
          "height": 1565
        },
        "outputId": "b41437bb-6210-4517-f64c-bf4eb31565f7"
      },
      "cell_type": "code",
      "source": [
        "mw_clust.plot.scatter(x='FS_year', y='FCS')\n",
        "mw_clust.plot.scatter(x='FS_year', y='HDDS')\n",
        "mw_clust.plot.scatter(x='FS_year', y='rCSI')\n",
        "\n",
        "mw_clust.plot.density(y='FCS')\n",
        "mw_clust.plot.density(y='HDDS')\n",
        "mw_clust.plot.density(y='rCSI')\n"
      ],
      "execution_count": 47,
      "outputs": [
        {
          "output_type": "execute_result",
          "data": {
            "text/plain": [
              "<matplotlib.axes._subplots.AxesSubplot at 0x7f827cb6bba8>"
            ]
          },
          "metadata": {
            "tags": []
          },
          "execution_count": 47
        },
        {
          "output_type": "display_data",
          "data": {
            "image/png": "[encoded data removed]",
            "text/plain": [
              "<matplotlib.figure.Figure at 0x7f827cb70fd0>"
            ]
          },
          "metadata": {
            "tags": []
          }
        },
        {
          "output_type": "display_data",
          "data": {
            "image/png": "[encoded data removed]",
            "text/plain": [
              "<matplotlib.figure.Figure at 0x7f827c712d30>"
            ]
          },
          "metadata": {
            "tags": []
          }
        },
        {
          "output_type": "display_data",
          "data": {
            "image/png": "[encoded data removed]",
            "text/plain": [
              "<matplotlib.figure.Figure at 0x7f827cde3978>"
            ]
          },
          "metadata": {
            "tags": []
          }
        },
        {
          "output_type": "display_data",
          "data": {
            "image/png": "[encoded data removed]",
            "text/plain": [
              "<matplotlib.figure.Figure at 0x7f827cfaf748>"
            ]
          },
          "metadata": {
            "tags": []
          }
        },
        {
          "output_type": "display_data",
          "data": {
            "image/png": "[encoded data removed]",
            "text/plain": [
              "<matplotlib.figure.Figure at 0x7f827ce37cc0>"
            ]
          },
          "metadata": {
            "tags": []
          }
        },
        {
          "output_type": "display_data",
          "data": {
            "image/png": "[encoded data removed]",
            "text/plain": [
              "<matplotlib.figure.Figure at 0x7f827ce46cc0>"
            ]
          },
          "metadata": {
            "tags": []
          }
        }
      ]
    },
    {
      "metadata": {
        "id": "YEj_3ocRh2NK",
        "colab_type": "code",
        "colab": {
          "base_uri": "https://localhost:8080/",
          "height": 820
        },
        "outputId": "4dcaccea-9d50-405b-ab68-760bbd9295d0"
      },
      "cell_type": "code",
      "source": [
        "tz_clust.plot.scatter(x='FS_year', y='FCS')\n",
        "tz_clust.plot.scatter(x='FS_year', y='HDDS')\n",
        "tz_clust.plot.scatter(x='FS_year', y='rCSI')"
      ],
      "execution_count": 48,
      "outputs": [
        {
          "output_type": "execute_result",
          "data": {
            "text/plain": [
              "<matplotlib.axes._subplots.AxesSubplot at 0x7f827c4db5c0>"
            ]
          },
          "metadata": {
            "tags": []
          },
          "execution_count": 48
        },
        {
          "output_type": "display_data",
          "data": {
            "image/png": "[encoded data removed]",
            "text/plain": [
              "<matplotlib.figure.Figure at 0x7f827ce4b7b8>"
            ]
          },
          "metadata": {
            "tags": []
          }
        },
        {
          "output_type": "display_data",
          "data": {
            "image/png": "[encoded data removed]",
            "text/plain": [
              "<matplotlib.figure.Figure at 0x7f827c70b9e8>"
            ]
          },
          "metadata": {
            "tags": []
          }
        },
        {
          "output_type": "display_data",
          "data": {
            "image/png": "[encoded data removed]",
            "text/plain": [
              "<matplotlib.figure.Figure at 0x7f827c454fd0>"
            ]
          },
          "metadata": {
            "tags": []
          }
        }
      ]
    },
    {
      "metadata": {
        "id": "6YKt69sfc9qC",
        "colab_type": "code",
        "colab": {
          "base_uri": "https://localhost:8080/",
          "height": 562
        },
        "outputId": "07fb683d-9196-435e-fbbd-c1d6b93c52ac"
      },
      "cell_type": "code",
      "source": [
        "ug_clust.plot.scatter(x='FS_year', y='FCS')\n",
        "ug_clust.plot.scatter(x='FS_year', y='HDDS')\n"
      ],
      "execution_count": 49,
      "outputs": [
        {
          "output_type": "execute_result",
          "data": {
            "text/plain": [
              "<matplotlib.axes._subplots.AxesSubplot at 0x7f827c4c6908>"
            ]
          },
          "metadata": {
            "tags": []
          },
          "execution_count": 49
        },
        {
          "output_type": "display_data",
          "data": {
            "image/png": "[encoded data removed]",
            "text/plain": [
              "<matplotlib.figure.Figure at 0x7f827c6b3080>"
            ]
          },
          "metadata": {
            "tags": []
          }
        },
        {
          "output_type": "display_data",
          "data": {
            "image/png": "[encoded data removed]",
            "text/plain": [
              "<matplotlib.figure.Figure at 0x7f827f8c2400>"
            ]
          },
          "metadata": {
            "tags": []
          }
        }
      ]
    },
    {
      "metadata": {
        "id": "LL-JM7WeX5aL",
        "colab_type": "text"
      },
      "cell_type": "markdown",
      "source": [
        "### Asset related"
      ]
    },
    {
      "metadata": {
        "id": "Czew6mSVX9M9",
        "colab_type": "text"
      },
      "cell_type": "markdown",
      "source": [
        "### Weather"
      ]
    },
    {
      "metadata": {
        "id": "WEZ2Of2tX-uH",
        "colab_type": "text"
      },
      "cell_type": "markdown",
      "source": [
        "### Market Prices "
      ]
    },
    {
      "metadata": {
        "id": "ol13jHTkg-ko",
        "colab_type": "text"
      },
      "cell_type": "markdown",
      "source": [
        "## Modelling\n"
      ]
    },
    {
      "metadata": {
        "id": "Iw6L0fotmdJk",
        "colab_type": "text"
      },
      "cell_type": "markdown",
      "source": [
        "### Split train and test data\n",
        "\n",
        " For practical prediction purposes,  we use the most recent round of survey data  as the testing  and the rest as the training data. \n"
      ]
    },
    {
      "metadata": {
        "id": "2Izr337mibX-",
        "colab_type": "code",
        "outputId": "0f754dc2-7c08-489a-ad9a-5e683f5fce08",
        "colab": {
          "base_uri": "https://localhost:8080/",
          "height": 54
        }
      },
      "cell_type": "code",
      "source": [
        "mw_hh['FS_year'].unique()"
      ],
      "execution_count": 50,
      "outputs": [
        {
          "output_type": "execute_result",
          "data": {
            "text/plain": [
              "array([2010, 2011, 2013, 2016])"
            ]
          },
          "metadata": {
            "tags": []
          },
          "execution_count": 50
        }
      ]
    },
    {
      "metadata": {
        "id": "2HKFzJF_Uj1L",
        "colab_type": "code",
        "colab": {}
      },
      "cell_type": "code",
      "source": [
        "# separate test and training for mw\n",
        "\n",
        "mw_hh_test_cond =  mw_hh['FS_year']>2015\n",
        "mw_hh_train_cond =  mw_hh['FS_year']<2016\n",
        "mw_hh_test = mw_hh[mw_hh_test_cond]\n",
        "mw_hh_train = mw_hh[mw_hh_train_cond]\n",
        "\n",
        "mw_clust_test_cond =  mw_clust['FS_year']>2015\n",
        "mw_clust_train_cond =  mw_clust['FS_year']<2016\n",
        "mw_clust_test = mw_clust[mw_clust_test_cond]\n",
        "mw_clust_train = mw_clust[mw_clust_train_cond]\n",
        "\n"
      ],
      "execution_count": 0,
      "outputs": []
    },
    {
      "metadata": {
        "id": "DZhVAyXIl8q1",
        "colab_type": "code",
        "outputId": "25b6f806-7fab-4940-8fb7-ac80dc486cc7",
        "colab": {
          "base_uri": "https://localhost:8080/",
          "height": 54
        }
      },
      "cell_type": "code",
      "source": [
        "tz_hh['FS_year'].unique()"
      ],
      "execution_count": 52,
      "outputs": [
        {
          "output_type": "execute_result",
          "data": {
            "text/plain": [
              "array([2010, 2011, 2012, 2013, 2014, 2015])"
            ]
          },
          "metadata": {
            "tags": []
          },
          "execution_count": 52
        }
      ]
    },
    {
      "metadata": {
        "id": "wsEHIVZ1j9VM",
        "colab_type": "code",
        "outputId": "ae0d2927-87bc-407d-d37b-063f70d46b11",
        "colab": {
          "base_uri": "https://localhost:8080/",
          "height": 54
        }
      },
      "cell_type": "code",
      "source": [
        "ug_clust['FS_year'].unique()"
      ],
      "execution_count": 53,
      "outputs": [
        {
          "output_type": "execute_result",
          "data": {
            "text/plain": [
              "array([2011, 2012, 2010])"
            ]
          },
          "metadata": {
            "tags": []
          },
          "execution_count": 53
        }
      ]
    },
    {
      "metadata": {
        "id": "2YOATaDxlqfr",
        "colab_type": "code",
        "colab": {}
      },
      "cell_type": "code",
      "source": [
        "# separate test and training for tz\n",
        "\n",
        "tz_hh_test_cond =  tz_hh['FS_year']>2013\n",
        "tz_hh_train_cond =  tz_hh['FS_year']<2014\n",
        "tz_hh_test = tz_hh[tz_hh_test_cond]\n",
        "tz_hh_train = tz_hh[tz_hh_train_cond]\n",
        "\n",
        "tz_clust_test_cond =  tz_clust['FS_year']>2013\n",
        "tz_clust_train_cond =  tz_clust['FS_year']<2014\n",
        "tz_clust_test = tz_clust[tz_clust_test_cond]\n",
        "tz_clust_train = tz_clust[tz_clust_train_cond]\n"
      ],
      "execution_count": 0,
      "outputs": []
    },
    {
      "metadata": {
        "id": "DkA5j3EthOKU",
        "colab_type": "code",
        "outputId": "be6a1d9f-a9b6-47cc-9d09-2a05756ec683",
        "colab": {
          "base_uri": "https://localhost:8080/",
          "height": 54
        }
      },
      "cell_type": "code",
      "source": [
        "ug_hh['FS_year'].unique()\n",
        "#ug_hh[ug_hh['FS_year']==2012].shape #3531 of tesing \n",
        "#ug_hh[ug_hh['FS_year']!=2012].shape #7372 of tesing \n"
      ],
      "execution_count": 55,
      "outputs": [
        {
          "output_type": "execute_result",
          "data": {
            "text/plain": [
              "array([2012, 2011, 2010])"
            ]
          },
          "metadata": {
            "tags": []
          },
          "execution_count": 55
        }
      ]
    },
    {
      "metadata": {
        "id": "bdHBlkN6D2wC",
        "colab_type": "code",
        "colab": {}
      },
      "cell_type": "code",
      "source": [
        "# separate test and training for ug \n",
        "ug_hh_test_cond =  ug_hh['FS_year']>2011\n",
        "ug_hh_train_cond =  ug_hh['FS_year']<2012\n",
        "ug_hh_test = ug_hh[ug_hh_test_cond]\n",
        "ug_hh_train = ug_hh[ug_hh_train_cond]\n",
        "\n",
        "ug_clust_test_cond =  ug_clust['FS_year']>2011\n",
        "ug_clust_train_cond =  ug_clust['FS_year']<2012\n",
        "ug_clust_test = ug_clust[ug_clust_test_cond]\n",
        "ug_clust_train = ug_clust[ug_clust_train_cond]\n"
      ],
      "execution_count": 0,
      "outputs": []
    },
    {
      "metadata": {
        "id": "w_YE97RELQ0n",
        "colab_type": "text"
      },
      "cell_type": "markdown",
      "source": [
        "**Separate the target/labels from the X variables. **"
      ]
    },
    {
      "metadata": {
        "id": "ss3jWM1YKHRQ",
        "colab_type": "code",
        "colab": {}
      },
      "cell_type": "code",
      "source": [
        "labels = ['FCS', 'rCSI', 'HDDS']\n",
        "\n",
        "mw_hh_y_train= mw_hh_train[labels]\n",
        "mw_hh_y_test= mw_hh_test[labels]\n",
        "tz_hh_y_train= tz_hh_train[labels]\n",
        "tz_hh_y_test= tz_hh_test[labels]\n",
        "\n",
        "mw_clust_y_train= mw_clust_train[labels]\n",
        "mw_clust_y_test= mw_clust_test[labels]\n",
        "tz_clust_y_train= tz_clust_train[labels]\n",
        "tz_clust_y_test= tz_clust_test[labels]\n",
        "\n"
      ],
      "execution_count": 0,
      "outputs": []
    },
    {
      "metadata": {
        "id": "gxwxKkKTK8k_",
        "colab_type": "code",
        "colab": {}
      },
      "cell_type": "code",
      "source": [
        "ug_labels = ['FCS', 'HDDS']\n",
        "\n",
        "ug_hh_y_train= ug_hh_train[ug_labels]\n",
        "ug_hh_y_test= ug_hh_test[ug_labels]\n",
        " \n",
        "ug_clust_y_train= ug_clust_train[ug_labels]\n",
        "ug_clust_y_test= ug_clust_test[ug_labels]\n",
        "\n"
      ],
      "execution_count": 0,
      "outputs": []
    },
    {
      "metadata": {
        "id": "VTMqfrsbJZhx",
        "colab_type": "code",
        "colab": {}
      },
      "cell_type": "code",
      "source": [
        "# Define the X variables from each country, in both training and testing.\n",
        "mw_hh_X_train= mw_hh_train.drop(labels, axis=1)\n",
        "mw_clust_X_train= mw_clust_train.drop(labels, axis=1)\n",
        "tz_hh_X_train= tz_hh_train.drop(labels, axis=1)\n",
        "tz_clust_X_train= tz_clust_train.drop(labels, axis=1)\n",
        "ug_hh_X_train= ug_hh_train.drop(ug_labels, axis=1)\n",
        "ug_clust_X_train= ug_clust_train.drop(ug_labels, axis=1)\n",
        "\n",
        "mw_hh_X_test= mw_hh_test.drop(labels, axis=1)\n",
        "mw_clust_X_test= mw_clust_test.drop(labels, axis=1)\n",
        "tz_hh_X_test= tz_hh_test.drop(labels, axis=1)\n",
        "tz_clust_X_test= tz_clust_test.drop(labels, axis=1)\n",
        "ug_hh_X_test= ug_hh_test.drop(ug_labels, axis=1)\n",
        "ug_clust_X_test= ug_clust_test.drop(ug_labels, axis=1)\n"
      ],
      "execution_count": 0,
      "outputs": []
    },
    {
      "metadata": {
        "id": "44mXtgDmjfCi",
        "colab_type": "code",
        "outputId": "79609a1d-988b-4984-e638-a46b6fb419e0",
        "colab": {
          "base_uri": "https://localhost:8080/",
          "height": 54
        }
      },
      "cell_type": "code",
      "source": [
        "mw_hh_X_test.shape"
      ],
      "execution_count": 60,
      "outputs": [
        {
          "output_type": "execute_result",
          "data": {
            "text/plain": [
              "(9953, 114)"
            ]
          },
          "metadata": {
            "tags": []
          },
          "execution_count": 60
        }
      ]
    },
    {
      "metadata": {
        "id": "IsIxRC36hWYF",
        "colab_type": "code",
        "outputId": "d3b96cf9-285d-4e6c-c7a9-618ce32ef3cd",
        "colab": {
          "base_uri": "https://localhost:8080/",
          "height": 54
        }
      },
      "cell_type": "code",
      "source": [
        "mw_hh_X_train.shape"
      ],
      "execution_count": 61,
      "outputs": [
        {
          "output_type": "execute_result",
          "data": {
            "text/plain": [
              "(38145, 114)"
            ]
          },
          "metadata": {
            "tags": []
          },
          "execution_count": 61
        }
      ]
    },
    {
      "metadata": {
        "id": "e4RjTCmq09hD",
        "colab_type": "code",
        "colab": {}
      },
      "cell_type": "code",
      "source": [
        "X_train_list = [mw_hh_X_train,mw_clust_X_train,tz_hh_X_train,tz_clust_X_train,ug_hh_X_train,ug_clust_X_train]\n",
        "\n",
        "X_test_list = [mw_hh_X_test,mw_clust_X_test,tz_hh_X_test,tz_clust_X_test,ug_hh_X_test,ug_clust_X_test]\n",
        "\n",
        "y_train_list = [mw_hh_y_train,mw_clust_y_train,tz_hh_y_train,tz_clust_y_train,ug_hh_y_train,ug_clust_y_train]\n",
        "\n",
        "y_test_list = [mw_hh_y_test,mw_clust_y_test,tz_hh_y_test,tz_clust_y_test,ug_hh_y_test,ug_clust_y_test]\n",
        "\n",
        "column_names = [\"dataset\",\"FCS\",\"HDDS\",\"rCSI\"]\n",
        "\n",
        "name_list = [\"Malawi_household\",\"Malawi_cluster\",\"Tanzania_household\",\"Tanzania_cluster\",\"Uganda_household\",\"Uganda_cluster\"]"
      ],
      "execution_count": 0,
      "outputs": []
    },
    {
      "metadata": {
        "id": "ntliaZ0wYih5",
        "colab_type": "code",
        "outputId": "04e6ecea-a55e-42a3-db0e-7e621bf5ebf5",
        "colab": {
          "base_uri": "https://localhost:8080/",
          "height": 54
        }
      },
      "cell_type": "code",
      "source": [
        "ug_hh_X_train.isna().sum().sum()"
      ],
      "execution_count": 63,
      "outputs": [
        {
          "output_type": "execute_result",
          "data": {
            "text/plain": [
              "0"
            ]
          },
          "metadata": {
            "tags": []
          },
          "execution_count": 63
        }
      ]
    },
    {
      "metadata": {
        "id": "MJ3dY58vWSEa",
        "colab_type": "text"
      },
      "cell_type": "markdown",
      "source": [
        "### Models"
      ]
    },
    {
      "metadata": {
        "id": "3N_3YDvdwxiR",
        "colab_type": "code",
        "colab": {}
      },
      "cell_type": "code",
      "source": [
        "# define a function that displays multiple results at the same time as a table\n",
        "# input will be function and a character list\n",
        "  \n",
        "  def result_table(function,column_names=column_names):\n",
        "    \n",
        "    result_table = pd.DataFrame(columns=column_names)\n",
        "    \n",
        "    for index in range(len(X_train_list)):\n",
        "      fcs_value = function(X_train_list[index],X_test_list[index],y_train_list[index][\"FCS\"],y_test_list[index][\"FCS\"])\n",
        "      hdds_value = function(X_train_list[index],X_test_list[index],y_train_list[index][\"HDDS\"],y_test_list[index][\"HDDS\"])\n",
        "      if index<4:\n",
        "        rcsi_value = function(X_train_list[index],X_test_list[index],y_train_list[index][\"rCSI\"],y_test_list[index][\"rCSI\"])\n",
        "      else:\n",
        "        rcsi_value = 0\n",
        "      \n",
        "      fcs_value = '{0:.3f}'.format(fcs_value)\n",
        "      hdds_value = '{0:.3f}'.format(hdds_value)\n",
        "      rcsi_value = '{0:.3f}'.format(rcsi_value)\n",
        "      \n",
        "      \n",
        "      temp_df = pd.DataFrame([[name_list[index], fcs_value, hdds_value, rcsi_value]], columns=column_names)\n",
        "      \n",
        "      result_table = result_table.append(temp_df, ignore_index=True)\n",
        "      \n",
        "\n",
        "  \n",
        "    return result_table\n",
        "\n",
        "\n",
        "  \n"
      ],
      "execution_count": 0,
      "outputs": []
    },
    {
      "metadata": {
        "id": "xchwjtYlnkEv",
        "colab_type": "text"
      },
      "cell_type": "markdown",
      "source": [
        "#### Linear Regression"
      ]
    },
    {
      "metadata": {
        "id": "YG-4RJ4lhUt0",
        "colab_type": "code",
        "colab": {
          "base_uri": "https://localhost:8080/",
          "height": 235
        },
        "outputId": "553e092d-9434-4cdf-8858-a4a2071a9f10"
      },
      "cell_type": "code",
      "source": [
        "from sklearn.linear_model import LinearRegression\n",
        "\n",
        "def fit_linear(X_train, X_test,y_train,y_test):\n",
        "\n",
        "    # Create and fit our linear regression model to training data\n",
        "    model = LinearRegression(fit_intercept=True)\n",
        "    model.fit(X_train, y_train)\n",
        "\n",
        "    # Compute model predictions for test data\n",
        "    pred = model.predict(X_test)\n",
        "\n",
        "    r2 = stats.pearsonr(y_test, pred)[0] ** 2\n",
        "    \n",
        "    return r2\n",
        "\n",
        "# implement the algorithm and present results\n",
        "result_table(function=fit_linear)"
      ],
      "execution_count": 87,
      "outputs": [
        {
          "output_type": "execute_result",
          "data": {
            "text/html": [
              "<div>\n",
              "<style scoped>\n",
              "    .dataframe tbody tr th:only-of-type {\n",
              "        vertical-align: middle;\n",
              "    }\n",
              "\n",
              "    .dataframe tbody tr th {\n",
              "        vertical-align: top;\n",
              "    }\n",
              "\n",
              "    .dataframe thead th {\n",
              "        text-align: right;\n",
              "    }\n",
              "</style>\n",
              "<table border=\"1\" class=\"dataframe\">\n",
              "  <thead>\n",
              "    <tr style=\"text-align: right;\">\n",
              "      <th></th>\n",
              "      <th>dataset</th>\n",
              "      <th>FCS</th>\n",
              "      <th>HDDS</th>\n",
              "      <th>rCSI</th>\n",
              "    </tr>\n",
              "  </thead>\n",
              "  <tbody>\n",
              "    <tr>\n",
              "      <th>0</th>\n",
              "      <td>Malawi_household</td>\n",
              "      <td>0.264</td>\n",
              "      <td>0.268</td>\n",
              "      <td>0.120</td>\n",
              "    </tr>\n",
              "    <tr>\n",
              "      <th>1</th>\n",
              "      <td>Malawi_cluster</td>\n",
              "      <td>0.431</td>\n",
              "      <td>0.606</td>\n",
              "      <td>0.200</td>\n",
              "    </tr>\n",
              "    <tr>\n",
              "      <th>2</th>\n",
              "      <td>Tanzania_household</td>\n",
              "      <td>0.048</td>\n",
              "      <td>0.006</td>\n",
              "      <td>0.015</td>\n",
              "    </tr>\n",
              "    <tr>\n",
              "      <th>3</th>\n",
              "      <td>Tanzania_cluster</td>\n",
              "      <td>0.153</td>\n",
              "      <td>0.022</td>\n",
              "      <td>0.085</td>\n",
              "    </tr>\n",
              "    <tr>\n",
              "      <th>4</th>\n",
              "      <td>Uganda_household</td>\n",
              "      <td>0.174</td>\n",
              "      <td>0.213</td>\n",
              "      <td>0.000</td>\n",
              "    </tr>\n",
              "    <tr>\n",
              "      <th>5</th>\n",
              "      <td>Uganda_cluster</td>\n",
              "      <td>0.326</td>\n",
              "      <td>0.430</td>\n",
              "      <td>0.000</td>\n",
              "    </tr>\n",
              "  </tbody>\n",
              "</table>\n",
              "</div>"
            ],
            "text/plain": [
              "              dataset    FCS   HDDS   rCSI\n",
              "0    Malawi_household  0.264  0.268  0.120\n",
              "1      Malawi_cluster  0.431  0.606  0.200\n",
              "2  Tanzania_household  0.048  0.006  0.015\n",
              "3    Tanzania_cluster  0.153  0.022  0.085\n",
              "4    Uganda_household  0.174  0.213  0.000\n",
              "5      Uganda_cluster  0.326  0.430  0.000"
            ]
          },
          "metadata": {
            "tags": []
          },
          "execution_count": 87
        }
      ]
    },
    {
      "metadata": {
        "id": "37T4L-Jrnn-v",
        "colab_type": "text"
      },
      "cell_type": "markdown",
      "source": [
        "#### Ridge"
      ]
    },
    {
      "metadata": {
        "id": "vK4myVU3iJrF",
        "colab_type": "code",
        "colab": {
          "base_uri": "https://localhost:8080/",
          "height": 235
        },
        "outputId": "9c1665a4-38f6-4503-e619-abfc0ec40b19"
      },
      "cell_type": "code",
      "source": [
        "from sklearn.linear_model import RidgeCV\n",
        "\n",
        "def fit_ridge(X_train, X_test,y_train,y_test):\n",
        "\n",
        "  model = RidgeCV(alphas=[0.0, 1E-6, 1E-4, 1E-2, 1.0], fit_intercept=True, normalize=True, scoring=None, cv=5, gcv_mode='auto', store_cv_values=False) \n",
        "\n",
        "# Define different alpha values for different fits\n",
        "# alpha = [0.0, 1E-6, 1E-4, 1E-2, 1.0]\n",
        "\n",
        "  model.fit(X_train, y_train)\n",
        "\n",
        "  # Compute model predictions for test data\n",
        "  pred = model.predict(X_test)\n",
        "\n",
        "  r2 = stats.pearsonr(y_test, pred)[0] ** 2\n",
        "    \n",
        "  return r2\n",
        "\n",
        "\n",
        "\n",
        "# implement the algorithm and present results\n",
        "result_table(function=fit_ridge)"
      ],
      "execution_count": 88,
      "outputs": [
        {
          "output_type": "execute_result",
          "data": {
            "text/html": [
              "<div>\n",
              "<style scoped>\n",
              "    .dataframe tbody tr th:only-of-type {\n",
              "        vertical-align: middle;\n",
              "    }\n",
              "\n",
              "    .dataframe tbody tr th {\n",
              "        vertical-align: top;\n",
              "    }\n",
              "\n",
              "    .dataframe thead th {\n",
              "        text-align: right;\n",
              "    }\n",
              "</style>\n",
              "<table border=\"1\" class=\"dataframe\">\n",
              "  <thead>\n",
              "    <tr style=\"text-align: right;\">\n",
              "      <th></th>\n",
              "      <th>dataset</th>\n",
              "      <th>FCS</th>\n",
              "      <th>HDDS</th>\n",
              "      <th>rCSI</th>\n",
              "    </tr>\n",
              "  </thead>\n",
              "  <tbody>\n",
              "    <tr>\n",
              "      <th>0</th>\n",
              "      <td>Malawi_household</td>\n",
              "      <td>0.265</td>\n",
              "      <td>0.270</td>\n",
              "      <td>0.110</td>\n",
              "    </tr>\n",
              "    <tr>\n",
              "      <th>1</th>\n",
              "      <td>Malawi_cluster</td>\n",
              "      <td>0.431</td>\n",
              "      <td>0.642</td>\n",
              "      <td>0.217</td>\n",
              "    </tr>\n",
              "    <tr>\n",
              "      <th>2</th>\n",
              "      <td>Tanzania_household</td>\n",
              "      <td>0.048</td>\n",
              "      <td>0.006</td>\n",
              "      <td>0.015</td>\n",
              "    </tr>\n",
              "    <tr>\n",
              "      <th>3</th>\n",
              "      <td>Tanzania_cluster</td>\n",
              "      <td>0.153</td>\n",
              "      <td>0.020</td>\n",
              "      <td>0.087</td>\n",
              "    </tr>\n",
              "    <tr>\n",
              "      <th>4</th>\n",
              "      <td>Uganda_household</td>\n",
              "      <td>0.179</td>\n",
              "      <td>0.219</td>\n",
              "      <td>0.000</td>\n",
              "    </tr>\n",
              "    <tr>\n",
              "      <th>5</th>\n",
              "      <td>Uganda_cluster</td>\n",
              "      <td>0.365</td>\n",
              "      <td>0.421</td>\n",
              "      <td>0.000</td>\n",
              "    </tr>\n",
              "  </tbody>\n",
              "</table>\n",
              "</div>"
            ],
            "text/plain": [
              "              dataset    FCS   HDDS   rCSI\n",
              "0    Malawi_household  0.265  0.270  0.110\n",
              "1      Malawi_cluster  0.431  0.642  0.217\n",
              "2  Tanzania_household  0.048  0.006  0.015\n",
              "3    Tanzania_cluster  0.153  0.020  0.087\n",
              "4    Uganda_household  0.179  0.219  0.000\n",
              "5      Uganda_cluster  0.365  0.421  0.000"
            ]
          },
          "metadata": {
            "tags": []
          },
          "execution_count": 88
        }
      ]
    },
    {
      "metadata": {
        "id": "DfaZUtYJiT-g",
        "colab_type": "code",
        "colab": {
          "base_uri": "https://localhost:8080/",
          "height": 235
        },
        "outputId": "08f178cc-6e8a-497b-b3f3-37e18716b9e2"
      },
      "cell_type": "code",
      "source": [
        "from sklearn.linear_model import LassoCV\n",
        "\n",
        "def fit_lasso(X_train, X_test,y_train,y_test):\n",
        "\n",
        "    model = LassoCV(eps=0.001, n_alphas=100, alphas=(0.01, 2), fit_intercept=True,precompute='auto',n_jobs=4, random_state=0, selection='cyclic')\n",
        "\n",
        "    model.fit(X_train, y_train)\n",
        "    \n",
        "    pred = model.predict(X_test)\n",
        "\n",
        "    r2= stats.pearsonr(y_test, pred)[0] ** 2\n",
        "    return r2\n",
        "\n",
        "  \n",
        "# implement the algorithm and present results\n",
        "result_table(function=fit_lasso)"
      ],
      "execution_count": 90,
      "outputs": [
        {
          "output_type": "execute_result",
          "data": {
            "text/html": [
              "<div>\n",
              "<style scoped>\n",
              "    .dataframe tbody tr th:only-of-type {\n",
              "        vertical-align: middle;\n",
              "    }\n",
              "\n",
              "    .dataframe tbody tr th {\n",
              "        vertical-align: top;\n",
              "    }\n",
              "\n",
              "    .dataframe thead th {\n",
              "        text-align: right;\n",
              "    }\n",
              "</style>\n",
              "<table border=\"1\" class=\"dataframe\">\n",
              "  <thead>\n",
              "    <tr style=\"text-align: right;\">\n",
              "      <th></th>\n",
              "      <th>dataset</th>\n",
              "      <th>FCS</th>\n",
              "      <th>HDDS</th>\n",
              "      <th>rCSI</th>\n",
              "    </tr>\n",
              "  </thead>\n",
              "  <tbody>\n",
              "    <tr>\n",
              "      <th>0</th>\n",
              "      <td>Malawi_household</td>\n",
              "      <td>0.377</td>\n",
              "      <td>0.255</td>\n",
              "      <td>0.093</td>\n",
              "    </tr>\n",
              "    <tr>\n",
              "      <th>1</th>\n",
              "      <td>Malawi_cluster</td>\n",
              "      <td>0.677</td>\n",
              "      <td>0.565</td>\n",
              "      <td>0.157</td>\n",
              "    </tr>\n",
              "    <tr>\n",
              "      <th>2</th>\n",
              "      <td>Tanzania_household</td>\n",
              "      <td>0.047</td>\n",
              "      <td>0.005</td>\n",
              "      <td>0.015</td>\n",
              "    </tr>\n",
              "    <tr>\n",
              "      <th>3</th>\n",
              "      <td>Tanzania_cluster</td>\n",
              "      <td>0.153</td>\n",
              "      <td>0.020</td>\n",
              "      <td>0.088</td>\n",
              "    </tr>\n",
              "    <tr>\n",
              "      <th>4</th>\n",
              "      <td>Uganda_household</td>\n",
              "      <td>0.152</td>\n",
              "      <td>0.216</td>\n",
              "      <td>0.000</td>\n",
              "    </tr>\n",
              "    <tr>\n",
              "      <th>5</th>\n",
              "      <td>Uganda_cluster</td>\n",
              "      <td>0.317</td>\n",
              "      <td>0.421</td>\n",
              "      <td>0.000</td>\n",
              "    </tr>\n",
              "  </tbody>\n",
              "</table>\n",
              "</div>"
            ],
            "text/plain": [
              "              dataset    FCS   HDDS   rCSI\n",
              "0    Malawi_household  0.377  0.255  0.093\n",
              "1      Malawi_cluster  0.677  0.565  0.157\n",
              "2  Tanzania_household  0.047  0.005  0.015\n",
              "3    Tanzania_cluster  0.153  0.020  0.088\n",
              "4    Uganda_household  0.152  0.216  0.000\n",
              "5      Uganda_cluster  0.317  0.421  0.000"
            ]
          },
          "metadata": {
            "tags": []
          },
          "execution_count": 90
        }
      ]
    },
    {
      "metadata": {
        "id": "cmys1Z7Ojfh-",
        "colab_type": "code",
        "colab": {
          "base_uri": "https://localhost:8080/",
          "height": 235
        },
        "outputId": "d5e855c6-a528-48cc-ed10-6528111a2fa9"
      },
      "cell_type": "code",
      "source": [
        "from sklearn.linear_model import ElasticNetCV\n",
        "\n",
        "def fit_en(X_train, X_test,y_train,y_test):\n",
        "\n",
        "\n",
        "    model = ElasticNetCV(alphas=(0.1,0.02,3,2), copy_X=True, cv=10, eps=0.004, fit_intercept=True,\n",
        "           l1_ratio=0.33, max_iter=1000, n_alphas=100, n_jobs=1,\n",
        "           normalize=False, positive=False, precompute='auto', random_state=0,\n",
        "           selection='cyclic', tol=0.0001, verbose=0)\n",
        "\n",
        "    model.fit(X_train, y_train)\n",
        "    \n",
        "    pred = model.predict(X_test)\n",
        "\n",
        "    r2= stats.pearsonr(y_test, pred)[0] ** 2\n",
        "    \n",
        "    return r2\n",
        "\n",
        "\n",
        "# implement the algorithm and present results\n",
        "result_table(function=fit_en)    \n",
        "    "
      ],
      "execution_count": 91,
      "outputs": [
        {
          "output_type": "execute_result",
          "data": {
            "text/html": [
              "<div>\n",
              "<style scoped>\n",
              "    .dataframe tbody tr th:only-of-type {\n",
              "        vertical-align: middle;\n",
              "    }\n",
              "\n",
              "    .dataframe tbody tr th {\n",
              "        vertical-align: top;\n",
              "    }\n",
              "\n",
              "    .dataframe thead th {\n",
              "        text-align: right;\n",
              "    }\n",
              "</style>\n",
              "<table border=\"1\" class=\"dataframe\">\n",
              "  <thead>\n",
              "    <tr style=\"text-align: right;\">\n",
              "      <th></th>\n",
              "      <th>dataset</th>\n",
              "      <th>FCS</th>\n",
              "      <th>HDDS</th>\n",
              "      <th>rCSI</th>\n",
              "    </tr>\n",
              "  </thead>\n",
              "  <tbody>\n",
              "    <tr>\n",
              "      <th>0</th>\n",
              "      <td>Malawi_household</td>\n",
              "      <td>0.377</td>\n",
              "      <td>0.259</td>\n",
              "      <td>0.094</td>\n",
              "    </tr>\n",
              "    <tr>\n",
              "      <th>1</th>\n",
              "      <td>Malawi_cluster</td>\n",
              "      <td>0.683</td>\n",
              "      <td>0.587</td>\n",
              "      <td>0.192</td>\n",
              "    </tr>\n",
              "    <tr>\n",
              "      <th>2</th>\n",
              "      <td>Tanzania_household</td>\n",
              "      <td>0.048</td>\n",
              "      <td>0.005</td>\n",
              "      <td>0.015</td>\n",
              "    </tr>\n",
              "    <tr>\n",
              "      <th>3</th>\n",
              "      <td>Tanzania_cluster</td>\n",
              "      <td>0.153</td>\n",
              "      <td>0.020</td>\n",
              "      <td>0.088</td>\n",
              "    </tr>\n",
              "    <tr>\n",
              "      <th>4</th>\n",
              "      <td>Uganda_household</td>\n",
              "      <td>0.141</td>\n",
              "      <td>0.219</td>\n",
              "      <td>0.000</td>\n",
              "    </tr>\n",
              "    <tr>\n",
              "      <th>5</th>\n",
              "      <td>Uganda_cluster</td>\n",
              "      <td>0.264</td>\n",
              "      <td>0.387</td>\n",
              "      <td>0.000</td>\n",
              "    </tr>\n",
              "  </tbody>\n",
              "</table>\n",
              "</div>"
            ],
            "text/plain": [
              "              dataset    FCS   HDDS   rCSI\n",
              "0    Malawi_household  0.377  0.259  0.094\n",
              "1      Malawi_cluster  0.683  0.587  0.192\n",
              "2  Tanzania_household  0.048  0.005  0.015\n",
              "3    Tanzania_cluster  0.153  0.020  0.088\n",
              "4    Uganda_household  0.141  0.219  0.000\n",
              "5      Uganda_cluster  0.264  0.387  0.000"
            ]
          },
          "metadata": {
            "tags": []
          },
          "execution_count": 91
        }
      ]
    },
    {
      "metadata": {
        "id": "NBViYIF3iJHS",
        "colab_type": "code",
        "colab": {
          "base_uri": "https://localhost:8080/",
          "height": 235
        },
        "outputId": "e38a496d-972a-43cd-db3c-31eb365c6d40"
      },
      "cell_type": "code",
      "source": [
        "from sklearn.ensemble import RandomForestRegressor\n",
        "\n",
        "def fit_rfc(X_train, X_test,y_train,y_test):\n",
        "  # Create Regressor with default properties\n",
        "  model = RandomForestRegressor(random_state =0,n_jobs =4,warm_start = True,max_depth=4, min_samples_leaf=5 )\n",
        "\n",
        "  model.fit(X_train,y_train)\n",
        "  # Fit estimator and display score\n",
        "\n",
        "  # Regress on test data\n",
        "  pred = model.predict(X_test)\n",
        "\n",
        "  r2 = stats.pearsonr(y_test, pred)[0] ** 2\n",
        "    \n",
        "  return r2\n",
        "\n",
        "result_table(function=fit_rfc)"
      ],
      "execution_count": 85,
      "outputs": [
        {
          "output_type": "execute_result",
          "data": {
            "text/html": [
              "<div>\n",
              "<style scoped>\n",
              "    .dataframe tbody tr th:only-of-type {\n",
              "        vertical-align: middle;\n",
              "    }\n",
              "\n",
              "    .dataframe tbody tr th {\n",
              "        vertical-align: top;\n",
              "    }\n",
              "\n",
              "    .dataframe thead th {\n",
              "        text-align: right;\n",
              "    }\n",
              "</style>\n",
              "<table border=\"1\" class=\"dataframe\">\n",
              "  <thead>\n",
              "    <tr style=\"text-align: right;\">\n",
              "      <th></th>\n",
              "      <th>dataset</th>\n",
              "      <th>FCS</th>\n",
              "      <th>HDDS</th>\n",
              "      <th>rCSI</th>\n",
              "    </tr>\n",
              "  </thead>\n",
              "  <tbody>\n",
              "    <tr>\n",
              "      <th>0</th>\n",
              "      <td>Malawi_household</td>\n",
              "      <td>0.353</td>\n",
              "      <td>0.267</td>\n",
              "      <td>0.120</td>\n",
              "    </tr>\n",
              "    <tr>\n",
              "      <th>1</th>\n",
              "      <td>Malawi_cluster</td>\n",
              "      <td>0.709</td>\n",
              "      <td>0.673</td>\n",
              "      <td>0.256</td>\n",
              "    </tr>\n",
              "    <tr>\n",
              "      <th>2</th>\n",
              "      <td>Tanzania_household</td>\n",
              "      <td>0.197</td>\n",
              "      <td>0.221</td>\n",
              "      <td>0.055</td>\n",
              "    </tr>\n",
              "    <tr>\n",
              "      <th>3</th>\n",
              "      <td>Tanzania_cluster</td>\n",
              "      <td>0.267</td>\n",
              "      <td>0.395</td>\n",
              "      <td>0.137</td>\n",
              "    </tr>\n",
              "    <tr>\n",
              "      <th>4</th>\n",
              "      <td>Uganda_household</td>\n",
              "      <td>0.183</td>\n",
              "      <td>0.202</td>\n",
              "      <td>0.000</td>\n",
              "    </tr>\n",
              "    <tr>\n",
              "      <th>5</th>\n",
              "      <td>Uganda_cluster</td>\n",
              "      <td>0.336</td>\n",
              "      <td>0.440</td>\n",
              "      <td>0.000</td>\n",
              "    </tr>\n",
              "  </tbody>\n",
              "</table>\n",
              "</div>"
            ],
            "text/plain": [
              "              dataset    FCS   HDDS   rCSI\n",
              "0    Malawi_household  0.353  0.267  0.120\n",
              "1      Malawi_cluster  0.709  0.673  0.256\n",
              "2  Tanzania_household  0.197  0.221  0.055\n",
              "3    Tanzania_cluster  0.267  0.395  0.137\n",
              "4    Uganda_household  0.183  0.202  0.000\n",
              "5      Uganda_cluster  0.336  0.440  0.000"
            ]
          },
          "metadata": {
            "tags": []
          },
          "execution_count": 85
        }
      ]
    },
    {
      "metadata": {
        "id": "ANJyTHt4jkT7",
        "colab_type": "text"
      },
      "cell_type": "markdown",
      "source": [
        "## Visualization"
      ]
    },
    {
      "metadata": {
        "id": "BJC69mEDjhhG",
        "colab_type": "code",
        "colab": {}
      },
      "cell_type": "code",
      "source": [
        "fig, axs = plt.subplots(2, 2, figsize=(10, 10))\n",
        "axs[0, 0].scatter( actual_linear,pred_linear)\n",
        "axs[0, 0].plot(actual_linear,actual_linear, color='red')\n",
        "\n",
        "axs[1, 0].scatter( actual_rfr, pred_rfr)\n",
        "axs[1, 0].plot(actual_rfr, actual_rfr, color='red')\n",
        "\n",
        "\n",
        "axs[0, 1].scatter(actual_en ,pred_en )\n",
        "axs[0, 1].plot(actual_en,actual_en, color='red')\n",
        "\n",
        "axs[1, 1].scatter(actual_gbr, pred_gbr )\n",
        "axs[1, 1].plot(actual_gbr, actual_gbr, color='red')\n",
        "\n",
        "\n",
        "axs[0, 0].title.set_text('Scatter Plot Linear')\n",
        "axs[1, 0].title.set_text('Scatter Plot RandomForest')\n",
        "axs[0, 1].title.set_text('Scatter Plot ElasticNet')\n",
        "axs[1, 1].title.set_text('Scatter Plot GradientBoosting')\n",
        "plt.show()"
      ],
      "execution_count": 0,
      "outputs": []
    },
    {
      "metadata": {
        "id": "WWSlbeogjmtg",
        "colab_type": "text"
      },
      "cell_type": "markdown",
      "source": [
        "## Interpretation\n"
      ]
    },
    {
      "metadata": {
        "id": "YwonIW4_mEaL",
        "colab_type": "code",
        "colab": {}
      },
      "cell_type": "code",
      "source": [
        ""
      ],
      "execution_count": 0,
      "outputs": []
    }
  ]
}